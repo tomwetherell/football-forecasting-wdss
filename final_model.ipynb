{
 "cells": [
  {
   "cell_type": "code",
   "execution_count": 22,
   "metadata": {},
   "outputs": [
    {
     "name": "stdout",
     "output_type": "stream",
     "text": [
      "The autoreload extension is already loaded. To reload it, use:\n",
      "  %reload_ext autoreload\n"
     ]
    }
   ],
   "source": [
    "# Standard Imports\n",
    "import numpy as np\n",
    "\n",
    "# Model \n",
    "import statsmodels.api as sm\n",
    "import statsmodels.formula.api as smf\n",
    "\n",
    "# Model selection\n",
    "import statistics\n",
    "from sklearn.model_selection import KFold\n",
    "\n",
    "# Modules\n",
    "from data_gather_ff import make_dataset, get_fantasy_data\n",
    "import predict_ff as predff\n",
    "\n",
    "%load_ext autoreload\n",
    "%autoreload 2"
   ]
  },
  {
   "cell_type": "code",
   "execution_count": 23,
   "metadata": {},
   "outputs": [],
   "source": [
    "X = make_dataset([2019, 2020, 2021])\n"
   ]
  },
  {
   "cell_type": "markdown",
   "metadata": {},
   "source": [
    "# Cross Validation\n"
   ]
  },
  {
   "cell_type": "code",
   "execution_count": 24,
   "metadata": {},
   "outputs": [
    {
     "name": "stdout",
     "output_type": "stream",
     "text": [
      "Fold:0, Train set: 1492, Test set:374\n",
      "Fold:1, Train set: 1493, Test set:373\n",
      "Fold:2, Train set: 1493, Test set:373\n",
      "Fold:3, Train set: 1493, Test set:373\n",
      "Fold:4, Train set: 1493, Test set:373\n",
      "Fold 0 MSE: 1.73529\n",
      "Fold 1 MSE: 1.59249\n",
      "Fold 2 MSE: 1.98123\n",
      "Fold 3 MSE: 1.39946\n",
      "Fold 4 MSE: 1.62735\n",
      "repeated CV MSE: 1.66717 (std=0.19084)\n"
     ]
    }
   ],
   "source": [
    "def mse(y_true, y_pred):\n",
    "    return np.square(np.subtract(y_true, y_pred)).mean()\n",
    "\n",
    "\n",
    "def abs_error(y_true, y_pred):\n",
    "    return np.abs(np.subtract(y_true, y_pred)).mean()\n",
    "\n",
    "\n",
    "kf = KFold(n_splits=5, shuffle=True, random_state=42)\n",
    "\n",
    "# split()  method generate indices to split data into training and test set.\n",
    "for k, (train_index, test_index) in enumerate(kf.split(X, X.goals)):\n",
    "    print(f\"Fold:{k}, Train set: {len(train_index)}, Test set:{len(test_index)}\")\n",
    "\n",
    "mse_list = list()\n",
    "error_vec_list = list()\n",
    "\n",
    "for k, (train_idx, val_idx) in enumerate(kf.split(X, X.goals)):\n",
    "    # Fitting the model\n",
    "    poisson_model = smf.glm(\n",
    "        formula=\"goals ~ team + opponent + team_odds + draw_odds + oppo_odds + team_fantasy_atk_str + team_fantasy_def_str + oppo_fantasy_atk_str + oppo_fantasy_def_str + team_goals_last5 + oppo_goals_last5 + home\",\n",
    "        data=X.iloc[train_idx, :],\n",
    "        family=sm.families.Poisson(),\n",
    "    ).fit()\n",
    "\n",
    "    # Getting the predictions\n",
    "    validation_predictions = []\n",
    "    for i in val_idx:\n",
    "        if X.home[i] == 1:\n",
    "            X_home, X_away = predff.create_X(\n",
    "                home_team=X.team[i],\n",
    "                away_team=X.opponent[i],\n",
    "                home_odds=X.team_odds[i],\n",
    "                draw_odds=X.draw_odds[i],\n",
    "                away_odds=X.oppo_odds[i],\n",
    "                home_fan_atk_str=X.team_fantasy_atk_str[i],\n",
    "                home_fan_def_str=X.team_fantasy_def_str[i],\n",
    "                away_fan_atk_str=X.oppo_fantasy_atk_str[i],\n",
    "                away_fan_def_str=X.oppo_fantasy_def_str[i],\n",
    "                home_goals_last5=X.team_goals_last5[i],\n",
    "                away_goals_last5=X.oppo_goals_last5[i],\n",
    "            )\n",
    "            pred = predff.predict_score(X_home, X_away, poisson_model)[0][0]\n",
    "\n",
    "        elif X.home[i] == 0:\n",
    "            X_home, X_away = predff.create_X(\n",
    "                home_team=X.opponent[i],\n",
    "                away_team=X.team[i],\n",
    "                home_odds=X.oppo_odds[i],\n",
    "                draw_odds=X.draw_odds[i],\n",
    "                away_odds=X.team_odds[i],\n",
    "                home_fan_atk_str=X.oppo_fantasy_atk_str[i],\n",
    "                home_fan_def_str=X.oppo_fantasy_def_str[i],\n",
    "                away_fan_atk_str=X.team_fantasy_atk_str[i],\n",
    "                away_fan_def_str=X.team_fantasy_def_str[i],\n",
    "                home_goals_last5=X.oppo_goals_last5[i],\n",
    "                away_goals_last5=X.team_goals_last5[i],\n",
    "            )\n",
    "            pred = predff.predict_score(X_home, X_away, poisson_model)[0][1]\n",
    "\n",
    "        validation_predictions.append(pred)\n",
    "\n",
    "    error_vec = np.subtract(X.goals[val_idx].values, np.array(validation_predictions))\n",
    "\n",
    "    error_vec_list.append(error_vec)\n",
    "\n",
    "    # Calculating and printing the MSE for the current fold\n",
    "    val_mse = mse(y_true=X.goals[val_idx], y_pred=validation_predictions)\n",
    "\n",
    "    # val_abs_error = abs_error(y_true=X.goals[val_idx], y_pred=validation_predictions)\n",
    "\n",
    "    print(f\"Fold {k} MSE: {val_mse:0.5f}\")\n",
    "    mse_list.append(val_mse)\n",
    "\n",
    "\n",
    "print(f\"repeated CV MSE: {np.mean(mse_list):0.5f} (std={np.std(mse_list):0.5f})\")\n"
   ]
  },
  {
   "cell_type": "markdown",
   "metadata": {},
   "source": [
    "# Making Preditions for the Tournament\n"
   ]
  },
  {
   "cell_type": "code",
   "execution_count": 25,
   "metadata": {},
   "outputs": [],
   "source": [
    "poisson_model = smf.glm(\n",
    "    formula=\"goals ~ team + opponent + team_odds + draw_odds + oppo_odds + team_fantasy_atk_str + team_fantasy_def_str + oppo_fantasy_atk_str + oppo_fantasy_def_str + team_goals_last5 + oppo_goals_last5 + home\",\n",
    "    data=X,\n",
    "    family=sm.families.Poisson(),\n",
    ").fit()\n"
   ]
  },
  {
   "cell_type": "code",
   "execution_count": 26,
   "metadata": {},
   "outputs": [],
   "source": [
    "def get_ordinal(team):\n",
    "    prem_teams = [\n",
    "        \"Man City\",\n",
    "        \"Man United\",\n",
    "        \"Liverpool\",\n",
    "        \"Chelsea\",\n",
    "        \"Leicester\",\n",
    "        \"West Ham\",\n",
    "        \"Tottenham\",\n",
    "        \"Arsenal\",\n",
    "        \"Leeds\",\n",
    "        \"Everton\",\n",
    "        \"Aston Villa\",\n",
    "        \"Newcastle\",\n",
    "        \"Wolves\",\n",
    "        \"Crystal Palace\",\n",
    "        \"Southampton\",\n",
    "        \"Brighton\",\n",
    "        \"Burnley\",\n",
    "        \"Norwich\",\n",
    "        \"Watford\",\n",
    "        \"Brentford\",\n",
    "    ]\n",
    "    return prem_teams.index(team)\n",
    "\n",
    "\n",
    "def get_fantasy_atk_str(team):\n",
    "    fan_2021 = get_fantasy_data(2021)\n",
    "    strength = fan_2021.fantasy_strength_atk[np.where(fan_2021[\"name\"] == team)[0][0]]\n",
    "    return strength\n",
    "\n",
    "\n",
    "def get_fantasy_def_str(team):\n",
    "    fan_2021 = get_fantasy_data(2021)\n",
    "    strength = fan_2021.fantasy_strength_def[np.where(fan_2021[\"name\"] == team)[0][0]]\n",
    "    return strength\n",
    "\n",
    "\n",
    "def get_goals_last5(team):\n",
    "    team_data = X.loc[X.team == get_ordinal(team)]\n",
    "    return list(team_data[\"team_goals_last5\"])[-1]\n",
    "\n",
    "\n",
    "def make_competition_prediction(\n",
    "    home_team,\n",
    "    away_team,\n",
    "    home_odds,\n",
    "    draw_odds,\n",
    "    away_odds,\n",
    "):\n",
    "    # Generating the home and away feature vectors\n",
    "    X_home, X_away = predff.create_X(\n",
    "        home_team=get_ordinal(home_team),\n",
    "        away_team=get_ordinal(away_team),\n",
    "        home_odds=home_odds,\n",
    "        draw_odds=draw_odds,\n",
    "        away_odds=away_odds,\n",
    "        home_fan_atk_str=get_fantasy_atk_str(home_team),\n",
    "        home_fan_def_str=get_fantasy_def_str(home_team),\n",
    "        away_fan_atk_str=get_fantasy_atk_str(away_team),\n",
    "        away_fan_def_str=get_fantasy_def_str(away_team),\n",
    "        home_goals_last5=get_goals_last5(home_team),\n",
    "        away_goals_last5=get_goals_last5(away_team),\n",
    "    )\n",
    "    # Making the prediction\n",
    "    prediction, prob_star = predff.predict_score(X_home, X_away, poisson_model)\n",
    "\n",
    "    print(\"Match prediction is: \" + str(prediction))\n",
    "\n",
    "    return prediction"
   ]
  },
  {
   "cell_type": "code",
   "execution_count": 27,
   "metadata": {},
   "outputs": [
    {
     "data": {
      "text/plain": [
       "' TEMPLATE\\nmake_competition_prediction(home_team = ,\\n                            away_team = ,\\n                            home_odds = ,\\n                            draw_odds = ,\\n                            away_odds = )\\n'"
      ]
     },
     "execution_count": 27,
     "metadata": {},
     "output_type": "execute_result"
    }
   ],
   "source": [
    "\"\"\" TEMPLATE\n",
    "make_competition_prediction(home_team = ,\n",
    "                            away_team = ,\n",
    "                            home_odds = ,\n",
    "                            draw_odds = ,\n",
    "                            away_odds = )\n",
    "\"\"\""
   ]
  },
  {
   "cell_type": "code",
   "execution_count": 28,
   "metadata": {},
   "outputs": [
    {
     "name": "stdout",
     "output_type": "stream",
     "text": [
      "Match prediction is: (1, 1)\n"
     ]
    }
   ],
   "source": [
    "# Prediction for Leicester vs Leeds\n",
    "prediction = make_competition_prediction(\n",
    "    home_team=\"Leicester\",\n",
    "    away_team=\"Leeds\",\n",
    "    home_odds=17 / 20,\n",
    "    draw_odds=11 / 4,\n",
    "    away_odds=3 / 1,\n",
    ")"
   ]
  },
  {
   "cell_type": "code",
   "execution_count": 29,
   "metadata": {},
   "outputs": [
    {
     "name": "stdout",
     "output_type": "stream",
     "text": [
      "Match prediction is: (0, 1)\n"
     ]
    }
   ],
   "source": [
    "# Prediction for Watford vs Arsenal (Confidence rank = 11)\n",
    "prediction, confidence_list = make_competition_prediction(\n",
    "    home_team=\"Watford\",\n",
    "    away_team=\"Arsenal\",\n",
    "    home_odds=5 / 1,\n",
    "    draw_odds=3 / 1,\n",
    "    away_odds=4 / 7,\n",
    ")"
   ]
  },
  {
   "cell_type": "code",
   "execution_count": 30,
   "metadata": {},
   "outputs": [
    {
     "name": "stdout",
     "output_type": "stream",
     "text": [
      "Match prediction is: (2, 0)\n"
     ]
    }
   ],
   "source": [
    "# Prediction for Liverpool vs West Ham (Confidence rank = 12)\n",
    "prediction, confidence_list = make_competition_prediction(\n",
    "    home_team=\"Liverpool\",\n",
    "    away_team=\"West Ham\",\n",
    "    home_odds=3 / 10,\n",
    "    draw_odds=19 / 4,\n",
    "    away_odds=17 / 2,\n",
    ")"
   ]
  }
 ],
 "metadata": {
  "kernelspec": {
   "display_name": "Python 3.9.10 64-bit",
   "language": "python",
   "name": "python3"
  },
  "language_info": {
   "codemirror_mode": {
    "name": "ipython",
    "version": 3
   },
   "file_extension": ".py",
   "mimetype": "text/x-python",
   "name": "python",
   "nbconvert_exporter": "python",
   "pygments_lexer": "ipython3",
   "version": "3.9.10"
  },
  "orig_nbformat": 4,
  "vscode": {
   "interpreter": {
    "hash": "aee8b7b246df8f9039afb4144a1f6fd8d2ca17a180786b69acc140d282b71a49"
   }
  }
 },
 "nbformat": 4,
 "nbformat_minor": 2
}

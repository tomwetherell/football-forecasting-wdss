{
 "cells": [
  {
   "cell_type": "code",
   "execution_count": 30,
   "metadata": {},
   "outputs": [
    {
     "name": "stdout",
     "output_type": "stream",
     "text": [
      "The autoreload extension is already loaded. To reload it, use:\n",
      "  %reload_ext autoreload\n"
     ]
    }
   ],
   "source": [
    "# Standard Imports\n",
    "import numpy as np\n",
    "\n",
    "# Model \n",
    "import statsmodels.api as sm\n",
    "import statsmodels.formula.api as smf\n",
    "\n",
    "# Model selection\n",
    "import statistics\n",
    "from sklearn.model_selection import KFold\n",
    "\n",
    "# Modules\n",
    "from data_gather_ff import make_dataset\n",
    "import predict_ff as predff\n",
    "\n",
    "%load_ext autoreload\n",
    "%autoreload 2"
   ]
  },
  {
   "cell_type": "code",
   "execution_count": 32,
   "metadata": {},
   "outputs": [],
   "source": [
    "X = make_dataset([2019, 2020, 2021])"
   ]
  },
  {
   "cell_type": "markdown",
   "metadata": {},
   "source": [
    "# Cross Validation "
   ]
  },
  {
   "cell_type": "code",
   "execution_count": 46,
   "metadata": {},
   "outputs": [
    {
     "name": "stdout",
     "output_type": "stream",
     "text": [
      "Fold:0, Train set: 1492, Test set:374\n",
      "Fold:1, Train set: 1493, Test set:373\n",
      "Fold:2, Train set: 1493, Test set:373\n",
      "Fold:3, Train set: 1493, Test set:373\n",
      "Fold:4, Train set: 1493, Test set:373\n",
      "Fold 0 MSE: 1.73529\n",
      "Fold 1 MSE: 1.59249\n",
      "Fold 2 MSE: 1.98123\n",
      "Fold 3 MSE: 1.39946\n",
      "Fold 4 MSE: 1.62735\n",
      "repeated CV MSE: 1.66717 (std=0.19084)\n"
     ]
    }
   ],
   "source": [
    "def mse(y_true, y_pred):\n",
    "    return np.square(np.subtract(y_true, y_pred)).mean()\n",
    "\n",
    "def abs_error(y_true, y_pred):\n",
    "    return np.abs(np.subtract(y_true, y_pred)).mean()\n",
    "\n",
    "kf = KFold(n_splits=5, \n",
    "           shuffle=True, \n",
    "           random_state=42)\n",
    "\n",
    "# split()  method generate indices to split data into training and test set.\n",
    "for k, (train_index, test_index) in enumerate(kf.split(X, X.goals)):\n",
    "    print(f'Fold:{k}, Train set: {len(train_index)}, Test set:{len(test_index)}')\n",
    "\n",
    "mse_list = list()\n",
    "error_vec_list = list()\n",
    "\n",
    "for k, (train_idx, val_idx) in enumerate(kf.split(X, X.goals)):\n",
    "    # Fitting the model  \n",
    "    poisson_model = smf.glm(\n",
    "        formula=\"goals ~ team + opponent + team_odds + draw_odds + oppo_odds + team_fantasy_atk_str + team_fantasy_def_str + oppo_fantasy_atk_str + oppo_fantasy_def_str + team_goals_last5 + oppo_goals_last5 + home\",  \n",
    "        data=X.iloc[train_idx, :],\n",
    "        family=sm.families.Poisson() \n",
    "    ).fit()\n",
    "    \n",
    "    # Getting the predictions \n",
    "    validation_predictions = []\n",
    "    for i in val_idx:\n",
    "        if X.home[i] == 1:\n",
    "            X_home, X_away = predff.create_X(home_team=X.team[i],\n",
    "                                      away_team=X.opponent[i],\n",
    "                                      home_odds=X.team_odds[i],\n",
    "                                      draw_odds=X.draw_odds[i],\n",
    "                                      away_odds=X.oppo_odds[i],\n",
    "                                      home_fan_atk_str=X.team_fantasy_atk_str[i],\n",
    "                                      home_fan_def_str=X.team_fantasy_def_str[i],\n",
    "                                      away_fan_atk_str=X.oppo_fantasy_atk_str[i],\n",
    "                                      away_fan_def_str=X.oppo_fantasy_def_str[i],\n",
    "                                      home_goals_last5=X.team_goals_last5[i],\n",
    "                                      away_goals_last5=X.oppo_goals_last5[i])\n",
    "            pred = predff.predict_score(X_home, X_away, poisson_model)[0][0]\n",
    "            \n",
    "        elif X.home[i] == 0:\n",
    "            X_home, X_away = predff.create_X(home_team=X.opponent[i],\n",
    "                                      away_team=X.team[i],\n",
    "                                      home_odds=X.oppo_odds[i],\n",
    "                                      draw_odds=X.draw_odds[i],\n",
    "                                      away_odds=X.team_odds[i],\n",
    "                                      home_fan_atk_str=X.oppo_fantasy_atk_str[i],\n",
    "                                      home_fan_def_str=X.oppo_fantasy_def_str[i],\n",
    "                                      away_fan_atk_str=X.team_fantasy_atk_str[i],\n",
    "                                      away_fan_def_str=X.team_fantasy_def_str[i],\n",
    "                                      home_goals_last5=X.oppo_goals_last5[i],\n",
    "                                      away_goals_last5=X.team_goals_last5[i])\n",
    "            pred = predff.predict_score(X_home, X_away, poisson_model)[0][1]\n",
    "\n",
    "        validation_predictions.append(pred)\n",
    "\n",
    "    error_vec = np.subtract(X.goals[val_idx].values, np.array(validation_predictions))\n",
    "\n",
    "    error_vec_list.append(error_vec)\n",
    "        \n",
    "    # Calculating and printing the MSE for the current fold\n",
    "    val_mse = mse(y_true=X.goals[val_idx], y_pred=validation_predictions)\n",
    "    \n",
    "    # val_abs_error = abs_error(y_true=X.goals[val_idx], y_pred=validation_predictions)\n",
    "    \n",
    "    print(f\"Fold {k} MSE: {val_mse:0.5f}\")\n",
    "    mse_list.append(val_mse)\n",
    "    \n",
    "    \n",
    "print(f\"repeated CV MSE: {np.mean(mse_list):0.5f} (std={np.std(mse_list):0.5f})\")"
   ]
  }
 ],
 "metadata": {
  "kernelspec": {
   "display_name": "Python 3.9.10 64-bit",
   "language": "python",
   "name": "python3"
  },
  "language_info": {
   "codemirror_mode": {
    "name": "ipython",
    "version": 3
   },
   "file_extension": ".py",
   "mimetype": "text/x-python",
   "name": "python",
   "nbconvert_exporter": "python",
   "pygments_lexer": "ipython3",
   "version": "3.9.10"
  },
  "orig_nbformat": 4,
  "vscode": {
   "interpreter": {
    "hash": "aee8b7b246df8f9039afb4144a1f6fd8d2ca17a180786b69acc140d282b71a49"
   }
  }
 },
 "nbformat": 4,
 "nbformat_minor": 2
}
